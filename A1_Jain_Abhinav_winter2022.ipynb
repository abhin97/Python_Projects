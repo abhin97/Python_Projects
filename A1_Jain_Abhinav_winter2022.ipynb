{
 "cells": [
  {
   "cell_type": "markdown",
   "metadata": {},
   "source": [
    "# Week 1 Assignment\n",
    "\n",
    "* Download the \"A1_2022WinterB.ipynb\" notebook \n",
    "* Fill in the code in the cells marked with `# YOUR ANSWER HERE:` by answering the question/task defined in the cell above it starting with `GRADED:`\n",
    "* `VERY IMPORTANT`: Code cells outside of `# YOUR ANSWER HERE:` will not be considered for grading. \n",
    "  * Feel free to write outside of it for debugging\n",
    "* `DO NOT` fill your asnwers with many `print` statements. Only use `print` if the assignment asked explcitly. For example, if you are asked to write a function to calculate the sum of two numbers--the function should return that value, `NOT` a `print` statement of the value.\n",
    "* Submit the updated notebook\n",
    "  * Make sure to save your changes before submitting it!\n",
    "  * Make sure to rename your file as __A1_lastname_firstname.ipynb__"
   ]
  },
  {
   "cell_type": "code",
   "execution_count": 1,
   "metadata": {},
   "outputs": [],
   "source": [
    "#Import necessary libraries\n",
    "import pandas as pd\n",
    "import numpy as np"
   ]
  },
  {
   "cell_type": "markdown",
   "metadata": {},
   "source": [
    "## `GRADED [1]`: \n",
    "Provided below are functions that are:\n",
    "- completely defined: `add_numbers`;\n",
    "- partially defined: `avg_numbers`; _and_\n",
    "- not defined at all: `multiply_numbers`\n",
    "\n",
    " 1. Complete `avg_numbers` so that it returns the average of three numbers - `a`, `b`, and `c`\n",
    " 2. Write a function called `multiply_numbers` that returns the multiplication of `a` and `b`."
   ]
  },
  {
   "cell_type": "code",
   "execution_count": 1,
   "metadata": {},
   "outputs": [],
   "source": [
    "# [1] YOUR ANSWER HERE:\n",
    "\n",
    "def add_numbers(x, y):\n",
    "    result = x + y\n",
    "    return result\n",
    "\n",
    "def avg_numbers(a, b, c):\n",
    "    # Write code to return the average of of three numbers - a, b, and c\n",
    "    result =  None # Replace None with your code\n",
    "    return result"
   ]
  },
  {
   "cell_type": "code",
   "execution_count": 10,
   "metadata": {},
   "outputs": [],
   "source": [
    "# [1] YOUR ANSWER HERE:\n",
    "\n",
    "def add_numbers(x, y):\n",
    "    result = x + y\n",
    "    return result\n",
    "\n",
    "def avg_numbers(a, b, c):\n",
    "    avg_numbers = a+b+c/3 # Write code to return the average of of three numbers - a, b, and c\n",
    "    result =  avg_numbers # Replace None with your code\n",
    "    return result\n",
    "\n",
    "def multiply_numbers(a, b):\n",
    "    multiply_numbers = a*b \n",
    "    result =  multiply_numbers\n",
    "    return result"
   ]
  },
  {
   "cell_type": "code",
   "execution_count": 11,
   "metadata": {},
   "outputs": [
    {
     "name": "stdout",
     "output_type": "stream",
     "text": [
      "6.333333333333333\n",
      "6\n"
     ]
    }
   ],
   "source": [
    "# please do not modify this cell\n",
    "print(avg_numbers(2, 3, 4))\n",
    "print(multiply_numbers(2, 3))"
   ]
  },
  {
   "cell_type": "markdown",
   "metadata": {
    "collapsed": true
   },
   "source": [
    "## `GRADED [2]`: \n",
    "Using a `for` loop: loop over between `2` and `500` (__`inclusive`__); in the same `for` loop print __`only`__ every 6th prime numnbers you have encountered in the loop."
   ]
  },
  {
   "cell_type": "code",
   "execution_count": 53,
   "metadata": {},
   "outputs": [
    {
     "name": "stdout",
     "output_type": "stream",
     "text": [
      "List of 6th Prime Numbers between 2 and 500 [2, 13, 31, 53, 73, 101, 127, 151, 179, 199, 233, 263, 283, 317, 353, 383, 419, 443, 467]\n"
     ]
    }
   ],
   "source": [
    "# [2] YOUR ANSWER HERE:\n",
    "# Python program to print Prime Number between 2 and 500 (inclusive)\n",
    "def prime(a,b):\n",
    "    list_of_prime =[]\n",
    "    for i in range(a,b):\n",
    "        if i == 0 or i==1:\n",
    "            continue\n",
    "        else:\n",
    "            for j in range(2, int(i/2)+1):\n",
    "                if i % j ==0:\n",
    "                    break\n",
    "            else:\n",
    "                list_of_prime.append(i)\n",
    "    return list_of_prime\n",
    "\n",
    "\n",
    "\n",
    "number_start = 2\n",
    "number_end = 500\n",
    "\n",
    "last = prime(number_start, number_end)\n",
    "if len(last) == 0:\n",
    "    print(\"No prime number\")\n",
    "else:\n",
    "    print(\"List of 6th Prime Numbers between 2 and 500\", last[::5])\n"
   ]
  },
  {
   "cell_type": "markdown",
   "metadata": {},
   "source": [
    "## `GRADED [3]`: \n",
    "Define a function called `height_converter` that takes a height in `cm` as an argument and __prints__ the equivalent height in `feet and inch` using the following sentence: `Original height was [..] cm, which equals to [..] feet and [..] inches.`\n",
    "\n",
    "Please round your results - no fractions ."
   ]
  },
  {
   "cell_type": "code",
   "execution_count": 54,
   "metadata": {},
   "outputs": [],
   "source": [
    "# [3] YOUR ANSWER HERE:\n",
    "def height_converter(cm):\n",
    "    feet = 0.0277 * cm\n",
    "    inch = 0.0611 * cm\n",
    "    print (\"The original height is \", round(feet,),\" feet and \",round(inch,), \"inch\")"
   ]
  },
  {
   "cell_type": "code",
   "execution_count": 55,
   "metadata": {},
   "outputs": [
    {
     "name": "stdout",
     "output_type": "stream",
     "text": [
      "The original height is  5  feet and  11 inch\n"
     ]
    }
   ],
   "source": [
    "# please do not modify this cell\n",
    "height_converter(180)"
   ]
  },
  {
   "cell_type": "markdown",
   "metadata": {},
   "source": [
    "## `GRADED [4]`: \n",
    "Given the following dictionary, \n",
    " \n",
    "- Please create a new dictionary called `company_dict`. Example of the key-value pair for this new dictionary is as following,\n",
    "\n",
    "    'Microsoft': ['Satya Nadella', '$42,910,215']\n",
    "\n",
    "\n",
    "- Please define a funcation called `stat_company` that takes the original dictionary `ceo_dict` as an argument and return the __mean__ and __median__ of annual salary for those CEOs.\n",
    "\n",
    "    Please round your result to __2 decimal places__."
   ]
  },
  {
   "cell_type": "code",
   "execution_count": 33,
   "metadata": {},
   "outputs": [],
   "source": [
    "ceo_dict = {\n",
    "    'Satya Nadella': ['Microsoft', '$42,910,215'],\n",
    "    'Mark Zuckerberg': ['Facebook', '$1'],\n",
    "    'Sundar Pichai': ['Alphabet', '$2,000,000'],\n",
    "    'Jeff Bezos': ['Amazon', '$81,840'],\n",
    "    'Tim Cook': ['Apple', '$3,000,000']    \n",
    "} "
   ]
  },
  {
   "cell_type": "code",
   "execution_count": 52,
   "metadata": {},
   "outputs": [
    {
     "name": "stdout",
     "output_type": "stream",
     "text": [
      "Mean: 9598411.2\n",
      "Median: 2000000.0\n"
     ]
    }
   ],
   "source": [
    "company_dict = {}\n",
    "for x, y in ceo_dict.items():\n",
    "    company_dict[y[0]] = {x:y[1]}\n",
    "def stat_company(ceo_dict):\n",
    "    inputList = ceo_dict.items()\n",
    "    salary = []\n",
    "    for x,y in ceo_dict.items():\n",
    "        salary.append(int(y[1][1:].replace(',','')))\n",
    "    return str(round(np.mean(salary),2)), str(round(np.median(salary),2))\n",
    "x, y = stat_company(ceo_dict)\n",
    "print(\"Mean: \" + x)\n",
    "print(\"Median: \" + y)"
   ]
  },
  {
   "cell_type": "code",
   "execution_count": 45,
   "metadata": {},
   "outputs": [
    {
     "name": "stdout",
     "output_type": "stream",
     "text": [
      "{'Microsoft': {'Satya Nadella': '$42,910,215'}, 'Facebook': {'Mark Zuckerberg': '$1'}, 'Alphabet': {'Sundar Pichai': '$2,000,000'}, 'Amazon': {'Jeff Bezos': '$81,840'}, 'Apple': {'Tim Cook': '$3,000,000'}}\n"
     ]
    }
   ],
   "source": [
    "# [4] YOUR ANSWER HERE:\n",
    "company_dict = {}\n",
    "for x, y in ceo_dict.items():\n",
    "    company_dict[y[0]] = {x:y[1]}\n",
    "print(company_dict)"
   ]
  },
  {
   "cell_type": "markdown",
   "metadata": {},
   "source": [
    "## `GRADED [5]`: \n",
    "Palindrome is defined as \"a word, phrase, or sequence that reads the same backward as forward, e.g., madam or nurses run.\"\n",
    "\n",
    "Please find and list all the palindrome dates in December, 2021.\n",
    "'12/1/21' and '12/11/21' are both palindrome dates."
   ]
  },
  {
   "cell_type": "code",
   "execution_count": 25,
   "metadata": {},
   "outputs": [
    {
     "name": "stdout",
     "output_type": "stream",
     "text": [
      "12/0/21\n",
      "12/1/21\n",
      "12/2/21\n",
      "12/3/21\n",
      "12/4/21\n",
      "12/5/21\n",
      "12/6/21\n",
      "12/7/21\n",
      "12/8/21\n",
      "12/9/21\n",
      "12/11/21\n",
      "12/22/21\n",
      "Above is the list of The Palindrome dates in Decemver' 2021 \n"
     ]
    }
   ],
   "source": [
    "# [5] YOUR ANSWER HERE:\n",
    "\n",
    "for j in range (0,31):\n",
    "    \n",
    "    num = \"12/{}/21\".format(j)\n",
    "    \n",
    "    if (num == num[::-1]):\n",
    "        print(num)\n",
    "print (\"Above is the list of The Palindrome dates in Decemver' 2021 \")"
   ]
  }
 ],
 "metadata": {
  "kernelspec": {
   "display_name": "Python 3 (ipykernel)",
   "language": "python",
   "name": "python3"
  },
  "language_info": {
   "codemirror_mode": {
    "name": "ipython",
    "version": 3
   },
   "file_extension": ".py",
   "mimetype": "text/x-python",
   "name": "python",
   "nbconvert_exporter": "python",
   "pygments_lexer": "ipython3",
   "version": "3.9.7"
  }
 },
 "nbformat": 4,
 "nbformat_minor": 2
}
