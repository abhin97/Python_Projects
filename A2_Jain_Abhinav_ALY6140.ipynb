{
 "cells": [
  {
   "cell_type": "markdown",
   "metadata": {},
   "source": [
    "# Week 1 Assignment"
   ]
  },
  {
   "cell_type": "code",
   "execution_count": 5,
   "metadata": {},
   "outputs": [],
   "source": [
    "# Import Library\n",
    "import pandas as pd\n",
    "import numpy as np\n",
    "from A2_Abhinav_Jain_utility import readTxt\n",
    "from A2_Abhinav_Jain_utility import readCsv\n",
    "from A2_Abhinav_Jain_utility import readExcel\n",
    "from A2_Abhinav_Jain_utility import readJSON\n",
    "from A2_Abhinav_Jain_utility import readHTML\n",
    "from A2_Abhinav_Jain_utility import readSQL\n"
   ]
  },
  {
   "cell_type": "markdown",
   "metadata": {},
   "source": [
    "For `txt` file → show the shape (number of rows and columns) and the 6th record from the \n",
    "end "
   ]
  },
  {
   "cell_type": "code",
   "execution_count": 6,
   "metadata": {},
   "outputs": [
    {
     "name": "stdout",
     "output_type": "stream",
     "text": [
      "(7756, 21)\n",
      "id_visitor                                         1414271365_EuFmeZ+vsDuryP8F\n",
      "id_session                                    428ed6f07ad607b601a3efefa6d5d0e1\n",
      "dim_session_number                                                           2\n",
      "dim_user_agent               Mozilla/5.0 (iPad; CPU OS 7_1_2 like Mac OS X)...\n",
      "dim_device_app_combo                                                iPad - Web\n",
      "ds                                                                  2014-12-24\n",
      "ts_min                                                     2014-12-24 20:39:58\n",
      "ts_max                                                     2014-12-24 20:43:17\n",
      "did_search                                                                   1\n",
      "sent_message                                                                 0\n",
      "sent_booking_request                                                         0\n",
      "next_id_session                               3ee57aaec79a6a36eccbd4d1926519c2\n",
      "next_dim_session_number                                                    3.0\n",
      "next_dim_user_agent          Mozilla/5.0 (iPad; CPU OS 7_1_2 like Mac OS X)...\n",
      "next_dim_device_app_combo                                           iPad - Web\n",
      "next_ds                                                             2014-12-30\n",
      "next_ts_min                                                2014-12-30 06:17:11\n",
      "next_ts_max                                                2014-12-30 06:53:15\n",
      "next_did_search                                                            1.0\n",
      "next_sent_message                                                          0.0\n",
      "next_sent_booking_request                                                  0.0\n",
      "Name: 7750, dtype: object\n"
     ]
    }
   ],
   "source": [
    "# Code-\n",
    "dataframe_txt = readTxt('./data/network_data.txt')\n",
    "print(dataframe_txt.shape)\n",
    "print(dataframe_txt.iloc[-6])"
   ]
  },
  {
   "cell_type": "markdown",
   "metadata": {},
   "source": [
    "For `csv` file → show last 10 records"
   ]
  },
  {
   "cell_type": "code",
   "execution_count": 7,
   "metadata": {},
   "outputs": [
    {
     "name": "stdout",
     "output_type": "stream",
     "text": [
      "      Intensity_MassDisplacement_PI  Intensity_MaxIntensityEdge_DAPI  \\\n",
      "1234                       0.063320                         0.194293   \n",
      "1235                       8.319161                         0.143328   \n",
      "1236                       0.153048                         0.057710   \n",
      "1237                       0.050731                         0.061509   \n",
      "1238                       0.079365                         0.119539   \n",
      "1239                       0.171998                         0.080598   \n",
      "1240                       0.119342                         0.048783   \n",
      "1241                       0.356634                         0.045762   \n",
      "1242                       0.031105                         0.055741   \n",
      "1243                       0.134875                         0.104402   \n",
      "\n",
      "      Intensity_MaxIntensityEdge_PI  Intensity_MaxIntensity_DAPI  \\\n",
      "1234                       0.039582                     0.217288   \n",
      "1235                       0.999985                     0.276463   \n",
      "1236                       0.041413                     0.131991   \n",
      "1237                       0.036774                     0.130648   \n",
      "1238                       0.039200                     0.148287   \n",
      "1239                       0.040604                     0.156649   \n",
      "1240                       0.041337                     0.189441   \n",
      "1241                       0.043305                     0.209979   \n",
      "1242                       0.039704                     0.224430   \n",
      "1243                       0.039170                     0.145342   \n",
      "\n",
      "      Intensity_MaxIntensity_PI  Intensity_MeanIntensityEdge_DAPI  \\\n",
      "1234                   0.042313                          0.056633   \n",
      "1235                   1.000000                          0.044050   \n",
      "1236                   0.046723                          0.037233   \n",
      "1237                   0.045518                          0.043631   \n",
      "1238                   0.039200                          0.048008   \n",
      "1239                   0.058305                          0.037289   \n",
      "1240                   0.043961                          0.035985   \n",
      "1241                   0.044053                          0.033939   \n",
      "1242                   0.042100                          0.035622   \n",
      "1243                   0.041932                          0.043057   \n",
      "\n",
      "      Intensity_MeanIntensityEdge_PI  Intensity_MeanIntensity_DAPI  \\\n",
      "1234                        0.035244                      0.105091   \n",
      "1235                        0.180063                      0.099028   \n",
      "1236                        0.036132                      0.076337   \n",
      "1237                        0.032681                      0.074612   \n",
      "1238                        0.035201                      0.077008   \n",
      "1239                        0.035934                      0.073946   \n",
      "1240                        0.036574                      0.091565   \n",
      "1241                        0.037047                      0.090018   \n",
      "1242                        0.034686                      0.108055   \n",
      "1243                        0.034542                      0.085206   \n",
      "\n",
      "      Intensity_MeanIntensity_PI  Intensity_MedianIntensity_DAPI  ...  \\\n",
      "1234                    0.036406                        0.117639  ...   \n",
      "1235                    0.267314                        0.097833  ...   \n",
      "1236                    0.037338                        0.081605  ...   \n",
      "1237                    0.033470                        0.075990  ...   \n",
      "1238                    0.035598                        0.077752  ...   \n",
      "1239                    0.037313                        0.072702  ...   \n",
      "1240                    0.037603                        0.094690  ...   \n",
      "1241                    0.037711                        0.094888  ...   \n",
      "1242                    0.036322                        0.110582  ...   \n",
      "1243                    0.036329                        0.089799  ...   \n",
      "\n",
      "      Intensity_MinIntensityEdge_PI  Intensity_MinIntensity_DAPI  \\\n",
      "1234                       0.030976                     0.032425   \n",
      "1235                       0.033265                     0.027710   \n",
      "1236                       0.032120                     0.029648   \n",
      "1237                       0.029496                     0.034775   \n",
      "1238                       0.030228                     0.031327   \n",
      "1239                       0.033280                     0.029496   \n",
      "1240                       0.032273                     0.029877   \n",
      "1241                       0.032563                     0.029175   \n",
      "1242                       0.030747                     0.025147   \n",
      "1243                       0.030411                     0.030243   \n",
      "\n",
      "      Intensity_MinIntensity_PI  Intensity_StdIntensityEdge_DAPI  \\\n",
      "1234                   0.030976                         0.043854   \n",
      "1235                   0.033234                         0.024279   \n",
      "1236                   0.032120                         0.006000   \n",
      "1237                   0.029496                         0.006419   \n",
      "1238                   0.030228                         0.021698   \n",
      "1239                   0.033082                         0.006766   \n",
      "1240                   0.032166                         0.004301   \n",
      "1241                   0.032563                         0.003367   \n",
      "1242                   0.030747                         0.005272   \n",
      "1243                   0.030411                         0.011060   \n",
      "\n",
      "      Intensity_StdIntensityEdge_PI  Intensity_StdIntensity_DAPI  \\\n",
      "1234                       0.001839                     0.047836   \n",
      "1235                       0.266598                     0.048544   \n",
      "1236                       0.001898                     0.026351   \n",
      "1237                       0.001498                     0.024240   \n",
      "1238                       0.001629                     0.028806   \n",
      "1239                       0.001529                     0.029294   \n",
      "1240                       0.002227                     0.042145   \n",
      "1241                       0.002323                     0.043906   \n",
      "1242                       0.001641                     0.053612   \n",
      "1243                       0.001748                     0.032231   \n",
      "\n",
      "      Intensity_StdIntensity_PI  Intensity_UpperQuartileIntensity_DAPI  \\\n",
      "1234                   0.002009                               0.145388   \n",
      "1235                   0.323092                               0.122808   \n",
      "1236                   0.002321                               0.097917   \n",
      "1237                   0.002107                               0.093355   \n",
      "1238                   0.001410                               0.101003   \n",
      "1239                   0.002563                               0.097120   \n",
      "1240                   0.001983                               0.131117   \n",
      "1241                   0.002087                               0.123884   \n",
      "1242                   0.002031                               0.154421   \n",
      "1243                   0.001964                               0.112718   \n",
      "\n",
      "      Intensity_UpperQuartileIntensity_PI  Number_Object_Number  \n",
      "1234                             0.037770                  1235  \n",
      "1235                             0.479194                  1236  \n",
      "1236                             0.038499                  1237  \n",
      "1237                             0.034501                  1238  \n",
      "1238                             0.036545                  1239  \n",
      "1239                             0.038457                  1240  \n",
      "1240                             0.038849                  1241  \n",
      "1241                             0.039307                  1242  \n",
      "1242                             0.037766                  1243  \n",
      "1243                             0.037705                  1244  \n",
      "\n",
      "[10 rows x 22 columns]\n"
     ]
    }
   ],
   "source": [
    "# Code\n",
    "data_frame_csv = readCsv('./data/Neural_data.csv')\n",
    "print(data_frame_csv.tail(10))"
   ]
  },
  {
   "cell_type": "markdown",
   "metadata": {},
   "source": [
    "For `excel` file → show the shape (number of rows and columns) and the 5th record "
   ]
  },
  {
   "cell_type": "code",
   "execution_count": 8,
   "metadata": {},
   "outputs": [
    {
     "name": "stdout",
     "output_type": "stream",
     "text": [
      "(700, 16)\n",
      "Segment                          Midmarket\n",
      "Country                             Mexico\n",
      "Product                          Carretera\n",
      "Discount Band                         None\n",
      "Units Sold                          2470.0\n",
      "Manufacturing Price                      3\n",
      "Sale Price                              15\n",
      "Gross Sales                        37050.0\n",
      "Discounts                              0.0\n",
      " Sales                             37050.0\n",
      "COGS                               24700.0\n",
      "Profit                             12350.0\n",
      "Date                   2014-06-01 00:00:00\n",
      "Month Number                             6\n",
      "Month Name                            June\n",
      "Year                                  2014\n",
      "Name: 4, dtype: object\n"
     ]
    }
   ],
   "source": [
    "# Code\n",
    "dataframe_excel = readExcel('./data/Excel_report.xlsx','Sheet000',3)\n",
    "dataframe_excel.dropna(how='all', axis=1, inplace=True)\n",
    "print(dataframe_excel.shape)\n",
    "print(dataframe_excel.iloc[4])"
   ]
  },
  {
   "cell_type": "markdown",
   "metadata": {},
   "source": [
    "For `html` file → find the number of paragraphs <p> and find the number of paragraphs \n",
    "contains the string \"gravitational wave\" omitting the cases. "
   ]
  },
  {
   "cell_type": "code",
   "execution_count": 10,
   "metadata": {},
   "outputs": [
    {
     "name": "stdout",
     "output_type": "stream",
     "text": [
      "23\n",
      "6\n"
     ]
    }
   ],
   "source": [
    "# Code\n",
    "html_soup = readHTML('./data/grativational_wave.html')\n",
    "paragraph_list = html_soup.find_all(\"p\")\n",
    "print(len(paragraph_list))  \n",
    "paragraph_count=0\n",
    "for each_item in paragraph_list:\n",
    "    #print(i)\n",
    "    if(each_item.string and 'gravitational wave' in each_item.string):\n",
    "        paragraph_count=paragraph_count+1\n",
    "print(paragraph_count)        \n"
   ]
  },
  {
   "cell_type": "markdown",
   "metadata": {},
   "source": [
    "For `json` file → find the number of records in the json file, show last 3 records, and find \n",
    "out the number of null values in column `mass`. "
   ]
  },
  {
   "cell_type": "code",
   "execution_count": null,
   "metadata": {},
   "outputs": [
    {
     "name": "stdout",
     "output_type": "stream",
     "text": [
      "1000\n",
      "          name     id nametype recclass     mass  fall  \\\n",
      "997      Tjabe  24011    Valid       H6  20000.0  Fell   \n",
      "998   Tjerebon  24012    Valid       L5  16500.0  Fell   \n",
      "999  Tomakovka  24019    Valid      LL6    600.0  Fell   \n",
      "\n",
      "                        year    reclat    reclong  \\\n",
      "997  1869-01-01T00:00:00.000  -7.08333  111.53333   \n",
      "998  1922-01-01T00:00:00.000  -6.66667  106.58333   \n",
      "999  1905-01-01T00:00:00.000  47.85000   34.76667   \n",
      "\n",
      "                                           geolocation  \\\n",
      "997  {'type': 'Point', 'coordinates': [111.53333, -...   \n",
      "998  {'type': 'Point', 'coordinates': [106.58333, -...   \n",
      "999  {'type': 'Point', 'coordinates': [34.76667, 47...   \n",
      "\n",
      "     :@computed_region_cbhk_fwbd  :@computed_region_nnqa_25f4  \n",
      "997                          NaN                          NaN  \n",
      "998                          NaN                          NaN  \n",
      "999                          NaN                          NaN  \n",
      "28\n"
     ]
    }
   ],
   "source": [
    "# Code\n",
    "dataframe_JSON = readJSON('./data/nested_data.json')\n",
    "print(len(df.shape))\n",
    "print(dataframe_JSON.tail(3))\n",
    "print(+dataframe_JSON.isnull().sum(axis = 0)[4])"
   ]
  },
  {
   "cell_type": "markdown",
   "metadata": {},
   "source": [
    "For `SQLite database file` → find out which customer has the 2nd most accumulated \n",
    "spending and show CustomerId, the name of the customer, BillingCountry, and total \n",
    "spending (Hint: One customer might have multiple transactions. Using table customers & \n",
    "invoices ) "
   ]
  },
  {
   "cell_type": "code",
   "execution_count": null,
   "metadata": {},
   "outputs": [
    {
     "name": "stdout",
     "output_type": "stream",
     "text": [
      "CustomerId             26\n",
      "FirstName         Richard\n",
      "BillingCountry        USA\n",
      "Total               23.86\n",
      "Name: 180, dtype: object\n"
     ]
    }
   ],
   "source": [
    "# Code\n",
    "engine = readSQL('./data/chinook.db')\n",
    "\n",
    "dataframe_SQL = pd.read_sql_query(\"\"\"select customers.FirstName, customers.LastName, customers.CustomerId, , invoices.BillingCountry, invoices.Total\n",
    "from invoices\n",
    "inner join customers on invoices.CustomerId=customers.CustomerId\"\"\", engine)\n",
    "\n",
    "print(dataframe_SQL.sort_values(by=\"Total\").iloc[-1])"
   ]
  }
 ],
 "metadata": {
  "kernelspec": {
   "display_name": "Python 3 (ipykernel)",
   "language": "python",
   "name": "python3"
  },
  "language_info": {
   "codemirror_mode": {
    "name": "ipython",
    "version": 3
   },
   "file_extension": ".py",
   "mimetype": "text/x-python",
   "name": "python",
   "nbconvert_exporter": "python",
   "pygments_lexer": "ipython3",
   "version": "3.8.9"
  }
 },
 "nbformat": 4,
 "nbformat_minor": 2
}
